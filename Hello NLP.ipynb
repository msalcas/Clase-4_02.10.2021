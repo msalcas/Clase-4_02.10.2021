{
 "cells": [
  {
   "cell_type": "markdown",
   "id": "painful-terrace",
   "metadata": {},
   "source": [
    "## Dependencias"
   ]
  },
  {
   "cell_type": "code",
   "execution_count": 1,
   "id": "guided-burst",
   "metadata": {
    "ExecuteTime": {
     "end_time": "2021-09-30T21:41:20.865631Z",
     "start_time": "2021-09-30T21:41:18.749734Z"
    }
   },
   "outputs": [],
   "source": [
    "import numpy as np\n",
    "import pandas as pd\n",
    "import re\n",
    "import os\n",
    "\n",
    "\n",
    "from collections import Counter\n",
    "from functools import reduce\n",
    "\n",
    "import spacy\n",
    "from spacy.lang.es import Spanish\n",
    "from spacy.lang.es.stop_words import STOP_WORDS\n",
    "from nltk.corpus import stopwords\n",
    "\n",
    "import matplotlib.pyplot as plt\n",
    "\n",
    "import tensorflow as tf\n",
    "from tensorflow.keras.models import Sequential\n",
    "from tensorflow.keras.layers import LSTM, Dense, Dropout\n",
    "from tensorflow.keras.layers import SpatialDropout1D\n",
    "from tensorflow.keras.layers import Embedding\n",
    "from sklearn.model_selection import train_test_split\n",
    "from sklearn.metrics import roc_auc_score,accuracy_score\n"
   ]
  },
  {
   "cell_type": "markdown",
   "id": "settled-moment",
   "metadata": {},
   "source": [
    "## Carga de datos de texto"
   ]
  },
  {
   "cell_type": "code",
   "execution_count": 2,
   "id": "parental-gauge",
   "metadata": {
    "ExecuteTime": {
     "end_time": "2021-09-30T21:41:20.909855Z",
     "start_time": "2021-09-30T21:41:20.866891Z"
    }
   },
   "outputs": [
    {
     "data": {
      "text/plain": [
       "(693, 9)"
      ]
     },
     "execution_count": 2,
     "metadata": {},
     "output_type": "execute_result"
    }
   ],
   "source": [
    "ruta = 'data/opiniones_diplo/'\n",
    "l = os.listdir(ruta)\n",
    "\n",
    "df = pd.concat(map(lambda x:pd.read_csv(os.path.join(ruta,x)),l),ignore_index=True)\n",
    "df.shape"
   ]
  },
  {
   "cell_type": "code",
   "execution_count": 3,
   "id": "rental-sugar",
   "metadata": {
    "ExecuteTime": {
     "end_time": "2021-09-30T21:41:21.396669Z",
     "start_time": "2021-09-30T21:41:21.375359Z"
    }
   },
   "outputs": [
    {
     "data": {
      "text/html": [
       "<div>\n",
       "<style scoped>\n",
       "    .dataframe tbody tr th:only-of-type {\n",
       "        vertical-align: middle;\n",
       "    }\n",
       "\n",
       "    .dataframe tbody tr th {\n",
       "        vertical-align: top;\n",
       "    }\n",
       "\n",
       "    .dataframe thead th {\n",
       "        text-align: right;\n",
       "    }\n",
       "</style>\n",
       "<table border=\"1\" class=\"dataframe\">\n",
       "  <thead>\n",
       "    <tr style=\"text-align: right;\">\n",
       "      <th></th>\n",
       "      <th>Timestamp</th>\n",
       "      <th>¿Cómo calificas la calidad de los contenidos del curso?</th>\n",
       "      <th>¿Cómo calificas la calidad de los materiales(apuntes, códigos, datos, etc.?</th>\n",
       "      <th>¿Cómo calificas el nivel de dificultad de los contenidos del curso?</th>\n",
       "      <th>¿Cómo calificas la calidad del ponente?</th>\n",
       "      <th>¿Cómo calificas el nivel de dificultad de la evaluación?</th>\n",
       "      <th>¿Cómo calificas la calidad de las prácticas en clase?</th>\n",
       "      <th>En general, ¿Cuántas estrellas darías al módulo?</th>\n",
       "      <th>Por favor, emite tu libre opinión sobre el módulo en general (instructor, material, contenido, etc.)</th>\n",
       "    </tr>\n",
       "  </thead>\n",
       "  <tbody>\n",
       "    <tr>\n",
       "      <th>0</th>\n",
       "      <td>2021/04/15 8:37:05 PM EST</td>\n",
       "      <td>5</td>\n",
       "      <td>5</td>\n",
       "      <td>4</td>\n",
       "      <td>5</td>\n",
       "      <td>5</td>\n",
       "      <td>5</td>\n",
       "      <td>5</td>\n",
       "      <td>El mejor curso que he tomado de ciencias de da...</td>\n",
       "    </tr>\n",
       "    <tr>\n",
       "      <th>1</th>\n",
       "      <td>2021/04/15 8:37:43 PM EST</td>\n",
       "      <td>5</td>\n",
       "      <td>5</td>\n",
       "      <td>5</td>\n",
       "      <td>5</td>\n",
       "      <td>4</td>\n",
       "      <td>5</td>\n",
       "      <td>5</td>\n",
       "      <td>Me gustaria un poco mas de bibliografia para c...</td>\n",
       "    </tr>\n",
       "  </tbody>\n",
       "</table>\n",
       "</div>"
      ],
      "text/plain": [
       "                   Timestamp  \\\n",
       "0  2021/04/15 8:37:05 PM EST   \n",
       "1  2021/04/15 8:37:43 PM EST   \n",
       "\n",
       "   ¿Cómo calificas la calidad de los contenidos del curso?  \\\n",
       "0                                                  5         \n",
       "1                                                  5         \n",
       "\n",
       "   ¿Cómo calificas la calidad de los materiales(apuntes, códigos, datos, etc.?  \\\n",
       "0                                                  5                             \n",
       "1                                                  5                             \n",
       "\n",
       "   ¿Cómo calificas el nivel de dificultad de los contenidos del curso?  \\\n",
       "0                                                  4                     \n",
       "1                                                  5                     \n",
       "\n",
       "   ¿Cómo calificas la calidad del ponente?  \\\n",
       "0                                        5   \n",
       "1                                        5   \n",
       "\n",
       "   ¿Cómo calificas el nivel de dificultad de la evaluación?  \\\n",
       "0                                                  5          \n",
       "1                                                  4          \n",
       "\n",
       "   ¿Cómo calificas la calidad de las prácticas en clase?  \\\n",
       "0                                                  5       \n",
       "1                                                  5       \n",
       "\n",
       "   En general, ¿Cuántas estrellas darías al módulo?  \\\n",
       "0                                                 5   \n",
       "1                                                 5   \n",
       "\n",
       "  Por favor, emite tu libre opinión sobre el módulo en general (instructor, material, contenido, etc.)  \n",
       "0  El mejor curso que he tomado de ciencias de da...                                                    \n",
       "1  Me gustaria un poco mas de bibliografia para c...                                                    "
      ]
     },
     "execution_count": 3,
     "metadata": {},
     "output_type": "execute_result"
    }
   ],
   "source": [
    "df.head(2)"
   ]
  },
  {
   "cell_type": "markdown",
   "id": "urban-flour",
   "metadata": {},
   "source": [
    "## Preprocesamiento"
   ]
  },
  {
   "cell_type": "code",
   "execution_count": 4,
   "id": "trying-municipality",
   "metadata": {
    "ExecuteTime": {
     "end_time": "2021-09-30T21:41:22.230927Z",
     "start_time": "2021-09-30T21:41:22.221311Z"
    }
   },
   "outputs": [],
   "source": [
    "df = df[['Por favor, emite tu libre opinión sobre el módulo en general (instructor, material, contenido, etc.)',\n",
    "        'En general, ¿Cuántas estrellas darías al módulo?']]\n",
    "df.columns = ['texto','sentimiento']"
   ]
  },
  {
   "cell_type": "code",
   "execution_count": 5,
   "id": "lonely-tissue",
   "metadata": {},
   "outputs": [
    {
     "data": {
      "text/html": [
       "<div>\n",
       "<style scoped>\n",
       "    .dataframe tbody tr th:only-of-type {\n",
       "        vertical-align: middle;\n",
       "    }\n",
       "\n",
       "    .dataframe tbody tr th {\n",
       "        vertical-align: top;\n",
       "    }\n",
       "\n",
       "    .dataframe thead th {\n",
       "        text-align: right;\n",
       "    }\n",
       "</style>\n",
       "<table border=\"1\" class=\"dataframe\">\n",
       "  <thead>\n",
       "    <tr style=\"text-align: right;\">\n",
       "      <th></th>\n",
       "      <th>texto</th>\n",
       "      <th>sentimiento</th>\n",
       "    </tr>\n",
       "  </thead>\n",
       "  <tbody>\n",
       "    <tr>\n",
       "      <th>0</th>\n",
       "      <td>El mejor curso que he tomado de ciencias de da...</td>\n",
       "      <td>5</td>\n",
       "    </tr>\n",
       "    <tr>\n",
       "      <th>1</th>\n",
       "      <td>Me gustaria un poco mas de bibliografia para c...</td>\n",
       "      <td>5</td>\n",
       "    </tr>\n",
       "    <tr>\n",
       "      <th>2</th>\n",
       "      <td>Me gusta mucho que sea mucho contenido practico</td>\n",
       "      <td>5</td>\n",
       "    </tr>\n",
       "    <tr>\n",
       "      <th>3</th>\n",
       "      <td>Excelente el modulo</td>\n",
       "      <td>5</td>\n",
       "    </tr>\n",
       "    <tr>\n",
       "      <th>4</th>\n",
       "      <td>Las explicaciones fueron muy claras, se cubrie...</td>\n",
       "      <td>5</td>\n",
       "    </tr>\n",
       "  </tbody>\n",
       "</table>\n",
       "</div>"
      ],
      "text/plain": [
       "                                               texto  sentimiento\n",
       "0  El mejor curso que he tomado de ciencias de da...            5\n",
       "1  Me gustaria un poco mas de bibliografia para c...            5\n",
       "2    Me gusta mucho que sea mucho contenido practico            5\n",
       "3                                Excelente el modulo            5\n",
       "4  Las explicaciones fueron muy claras, se cubrie...            5"
      ]
     },
     "execution_count": 5,
     "metadata": {},
     "output_type": "execute_result"
    }
   ],
   "source": [
    "df.head()"
   ]
  },
  {
   "cell_type": "markdown",
   "id": "apparent-links",
   "metadata": {},
   "source": [
    "### Minúsculas"
   ]
  },
  {
   "cell_type": "code",
   "execution_count": 6,
   "id": "supposed-exhibit",
   "metadata": {
    "ExecuteTime": {
     "end_time": "2021-09-30T21:41:22.995618Z",
     "start_time": "2021-09-30T21:41:22.985194Z"
    }
   },
   "outputs": [],
   "source": [
    "df['texto'] = df['texto'].map(str.lower)"
   ]
  },
  {
   "cell_type": "code",
   "execution_count": 7,
   "id": "violent-argentina",
   "metadata": {},
   "outputs": [
    {
     "data": {
      "text/html": [
       "<div>\n",
       "<style scoped>\n",
       "    .dataframe tbody tr th:only-of-type {\n",
       "        vertical-align: middle;\n",
       "    }\n",
       "\n",
       "    .dataframe tbody tr th {\n",
       "        vertical-align: top;\n",
       "    }\n",
       "\n",
       "    .dataframe thead th {\n",
       "        text-align: right;\n",
       "    }\n",
       "</style>\n",
       "<table border=\"1\" class=\"dataframe\">\n",
       "  <thead>\n",
       "    <tr style=\"text-align: right;\">\n",
       "      <th></th>\n",
       "      <th>texto</th>\n",
       "      <th>sentimiento</th>\n",
       "    </tr>\n",
       "  </thead>\n",
       "  <tbody>\n",
       "    <tr>\n",
       "      <th>0</th>\n",
       "      <td>el mejor curso que he tomado de ciencias de da...</td>\n",
       "      <td>5</td>\n",
       "    </tr>\n",
       "    <tr>\n",
       "      <th>1</th>\n",
       "      <td>me gustaria un poco mas de bibliografia para c...</td>\n",
       "      <td>5</td>\n",
       "    </tr>\n",
       "    <tr>\n",
       "      <th>2</th>\n",
       "      <td>me gusta mucho que sea mucho contenido practico</td>\n",
       "      <td>5</td>\n",
       "    </tr>\n",
       "    <tr>\n",
       "      <th>3</th>\n",
       "      <td>excelente el modulo</td>\n",
       "      <td>5</td>\n",
       "    </tr>\n",
       "    <tr>\n",
       "      <th>4</th>\n",
       "      <td>las explicaciones fueron muy claras, se cubrie...</td>\n",
       "      <td>5</td>\n",
       "    </tr>\n",
       "  </tbody>\n",
       "</table>\n",
       "</div>"
      ],
      "text/plain": [
       "                                               texto  sentimiento\n",
       "0  el mejor curso que he tomado de ciencias de da...            5\n",
       "1  me gustaria un poco mas de bibliografia para c...            5\n",
       "2    me gusta mucho que sea mucho contenido practico            5\n",
       "3                                excelente el modulo            5\n",
       "4  las explicaciones fueron muy claras, se cubrie...            5"
      ]
     },
     "execution_count": 7,
     "metadata": {},
     "output_type": "execute_result"
    }
   ],
   "source": [
    "df.head()"
   ]
  },
  {
   "cell_type": "markdown",
   "id": "accepted-disorder",
   "metadata": {},
   "source": [
    "### Quitar stopwords"
   ]
  },
  {
   "cell_type": "code",
   "execution_count": 13,
   "id": "injured-fight",
   "metadata": {
    "ExecuteTime": {
     "end_time": "2021-09-30T21:41:23.784238Z",
     "start_time": "2021-09-30T21:41:23.773314Z"
    }
   },
   "outputs": [],
   "source": [
    "STOP_WORDS = STOP_WORDS.union(set(stopwords.words('spanish')))"
   ]
  },
  {
   "cell_type": "code",
   "execution_count": 14,
   "id": "killing-kernel",
   "metadata": {
    "ExecuteTime": {
     "end_time": "2021-09-30T21:41:24.247974Z",
     "start_time": "2021-09-30T21:41:24.225858Z"
    }
   },
   "outputs": [
    {
     "data": {
      "text/html": [
       "<div>\n",
       "<style scoped>\n",
       "    .dataframe tbody tr th:only-of-type {\n",
       "        vertical-align: middle;\n",
       "    }\n",
       "\n",
       "    .dataframe tbody tr th {\n",
       "        vertical-align: top;\n",
       "    }\n",
       "\n",
       "    .dataframe thead th {\n",
       "        text-align: right;\n",
       "    }\n",
       "</style>\n",
       "<table border=\"1\" class=\"dataframe\">\n",
       "  <thead>\n",
       "    <tr style=\"text-align: right;\">\n",
       "      <th></th>\n",
       "      <th>texto</th>\n",
       "      <th>sentimiento</th>\n",
       "    </tr>\n",
       "  </thead>\n",
       "  <tbody>\n",
       "    <tr>\n",
       "      <th>0</th>\n",
       "      <td>curso tomado ciencias datos. bueno.</td>\n",
       "      <td>5</td>\n",
       "    </tr>\n",
       "    <tr>\n",
       "      <th>1</th>\n",
       "      <td>gustaria bibliografia tema, peros basico.</td>\n",
       "      <td>5</td>\n",
       "    </tr>\n",
       "    <tr>\n",
       "      <th>2</th>\n",
       "      <td>gusta contenido practico</td>\n",
       "      <td>5</td>\n",
       "    </tr>\n",
       "    <tr>\n",
       "      <th>3</th>\n",
       "      <td>excelente modulo</td>\n",
       "      <td>5</td>\n",
       "    </tr>\n",
       "    <tr>\n",
       "      <th>4</th>\n",
       "      <td>explicaciones claras, cubrieron establecidas c...</td>\n",
       "      <td>5</td>\n",
       "    </tr>\n",
       "  </tbody>\n",
       "</table>\n",
       "</div>"
      ],
      "text/plain": [
       "                                               texto  sentimiento\n",
       "0                curso tomado ciencias datos. bueno.            5\n",
       "1          gustaria bibliografia tema, peros basico.            5\n",
       "2                           gusta contenido practico            5\n",
       "3                                   excelente modulo            5\n",
       "4  explicaciones claras, cubrieron establecidas c...            5"
      ]
     },
     "execution_count": 14,
     "metadata": {},
     "output_type": "execute_result"
    }
   ],
   "source": [
    "df['texto'] = df['texto'].map(lambda x: [w for w in x.split(' ') if w not in STOP_WORDS]).apply(\" \".join)\n",
    "df.head()"
   ]
  },
  {
   "cell_type": "markdown",
   "id": "immediate-station",
   "metadata": {},
   "source": [
    "### Lematización (buscar la raíz de la palabra)"
   ]
  },
  {
   "cell_type": "code",
   "execution_count": 15,
   "id": "saving-technician",
   "metadata": {
    "ExecuteTime": {
     "end_time": "2021-09-30T21:41:30.130097Z",
     "start_time": "2021-09-30T21:41:24.862444Z"
    }
   },
   "outputs": [
    {
     "name": "stdout",
     "output_type": "stream",
     "text": [
      "\u001b[38;5;2m✔ Download and installation successful\u001b[0m\n",
      "You can now load the package via spacy.load('es_core_news_sm')\n"
     ]
    }
   ],
   "source": [
    "spacy.cli.download(\"es_core_news_sm\")\n",
    "nlp = spacy.load('es_core_news_sm')"
   ]
  },
  {
   "cell_type": "code",
   "execution_count": 21,
   "id": "civilian-lloyd",
   "metadata": {
    "ExecuteTime": {
     "end_time": "2021-09-30T21:41:33.314684Z",
     "start_time": "2021-09-30T21:41:30.131224Z"
    }
   },
   "outputs": [
    {
     "data": {
      "text/html": [
       "<div>\n",
       "<style scoped>\n",
       "    .dataframe tbody tr th:only-of-type {\n",
       "        vertical-align: middle;\n",
       "    }\n",
       "\n",
       "    .dataframe tbody tr th {\n",
       "        vertical-align: top;\n",
       "    }\n",
       "\n",
       "    .dataframe thead th {\n",
       "        text-align: right;\n",
       "    }\n",
       "</style>\n",
       "<table border=\"1\" class=\"dataframe\">\n",
       "  <thead>\n",
       "    <tr style=\"text-align: right;\">\n",
       "      <th></th>\n",
       "      <th>texto</th>\n",
       "      <th>sentimiento</th>\n",
       "    </tr>\n",
       "  </thead>\n",
       "  <tbody>\n",
       "    <tr>\n",
       "      <th>0</th>\n",
       "      <td>curso tomado ciencia dato . bueno .</td>\n",
       "      <td>5</td>\n",
       "    </tr>\n",
       "    <tr>\n",
       "      <th>1</th>\n",
       "      <td>gustaria bibliografio tema , pero basico .</td>\n",
       "      <td>5</td>\n",
       "    </tr>\n",
       "    <tr>\n",
       "      <th>2</th>\n",
       "      <td>gustar contenido practico</td>\n",
       "      <td>5</td>\n",
       "    </tr>\n",
       "    <tr>\n",
       "      <th>3</th>\n",
       "      <td>excelente modulo</td>\n",
       "      <td>5</td>\n",
       "    </tr>\n",
       "    <tr>\n",
       "      <th>4</th>\n",
       "      <td>explicación claro , cubrir establecido conside...</td>\n",
       "      <td>5</td>\n",
       "    </tr>\n",
       "  </tbody>\n",
       "</table>\n",
       "</div>"
      ],
      "text/plain": [
       "                                               texto  sentimiento\n",
       "0                curso tomado ciencia dato . bueno .            5\n",
       "1         gustaria bibliografio tema , pero basico .            5\n",
       "2                          gustar contenido practico            5\n",
       "3                                   excelente modulo            5\n",
       "4  explicación claro , cubrir establecido conside...            5"
      ]
     },
     "execution_count": 21,
     "metadata": {},
     "output_type": "execute_result"
    }
   ],
   "source": [
    "df['texto'] = df['texto'].map(nlp).map(lambda x:[w.lemma_ for w in x]).apply(\" \".join)\n",
    "df.head()"
   ]
  },
  {
   "cell_type": "markdown",
   "id": "attended-portland",
   "metadata": {},
   "source": [
    "### Quitar puntuación"
   ]
  },
  {
   "cell_type": "code",
   "execution_count": 23,
   "id": "miniature-essex",
   "metadata": {
    "ExecuteTime": {
     "end_time": "2021-09-30T21:41:33.321104Z",
     "start_time": "2021-09-30T21:41:33.315847Z"
    }
   },
   "outputs": [],
   "source": [
    "\"\"\"\n",
    "re.sub: Patrón, sustitución, texto, juego de caracteres\n",
    "\n",
    "r' --> Raw String\n",
    "^ -->  Empieza por..\n",
    "\\w --> alfanuméricos\n",
    "\\s --> espacios\n",
    "[] --> Incluír solo los caracteres del patrón indicado\n",
    "\"\"\"\n",
    "\n",
    "df['texto'] = df['texto'].map(lambda x:re.sub(r'[^\\w\\s]','',x, re.UNICODE))"
   ]
  },
  {
   "cell_type": "code",
   "execution_count": 24,
   "id": "demographic-seminar",
   "metadata": {},
   "outputs": [
    {
     "data": {
      "text/html": [
       "<div>\n",
       "<style scoped>\n",
       "    .dataframe tbody tr th:only-of-type {\n",
       "        vertical-align: middle;\n",
       "    }\n",
       "\n",
       "    .dataframe tbody tr th {\n",
       "        vertical-align: top;\n",
       "    }\n",
       "\n",
       "    .dataframe thead th {\n",
       "        text-align: right;\n",
       "    }\n",
       "</style>\n",
       "<table border=\"1\" class=\"dataframe\">\n",
       "  <thead>\n",
       "    <tr style=\"text-align: right;\">\n",
       "      <th></th>\n",
       "      <th>texto</th>\n",
       "      <th>sentimiento</th>\n",
       "    </tr>\n",
       "  </thead>\n",
       "  <tbody>\n",
       "    <tr>\n",
       "      <th>0</th>\n",
       "      <td>curso tomado ciencia dato  bueno</td>\n",
       "      <td>5</td>\n",
       "    </tr>\n",
       "    <tr>\n",
       "      <th>1</th>\n",
       "      <td>gustaria bibliografio tema  pero basico</td>\n",
       "      <td>5</td>\n",
       "    </tr>\n",
       "    <tr>\n",
       "      <th>2</th>\n",
       "      <td>gustar contenido practico</td>\n",
       "      <td>5</td>\n",
       "    </tr>\n",
       "    <tr>\n",
       "      <th>3</th>\n",
       "      <td>excelente modulo</td>\n",
       "      <td>5</td>\n",
       "    </tr>\n",
       "    <tr>\n",
       "      <th>4</th>\n",
       "      <td>explicación claro  cubrir establecido consider...</td>\n",
       "      <td>5</td>\n",
       "    </tr>\n",
       "  </tbody>\n",
       "</table>\n",
       "</div>"
      ],
      "text/plain": [
       "                                               texto  sentimiento\n",
       "0                  curso tomado ciencia dato  bueno             5\n",
       "1           gustaria bibliografio tema  pero basico             5\n",
       "2                          gustar contenido practico            5\n",
       "3                                   excelente modulo            5\n",
       "4  explicación claro  cubrir establecido consider...            5"
      ]
     },
     "execution_count": 24,
     "metadata": {},
     "output_type": "execute_result"
    }
   ],
   "source": [
    "df.head()"
   ]
  },
  {
   "cell_type": "markdown",
   "id": "secret-electronics",
   "metadata": {},
   "source": [
    "### Quitar hapaxes (tokens con frecuencia 1)"
   ]
  },
  {
   "cell_type": "code",
   "execution_count": 25,
   "id": "thorough-vintage",
   "metadata": {
    "ExecuteTime": {
     "end_time": "2021-09-30T21:41:33.523194Z",
     "start_time": "2021-09-30T21:41:33.322691Z"
    }
   },
   "outputs": [],
   "source": [
    "conteos = Counter(reduce(lambda x,y:x+y,df['texto'].map(lambda x:x.split(' '))))"
   ]
  },
  {
   "cell_type": "code",
   "execution_count": 27,
   "id": "sixth-usage",
   "metadata": {
    "ExecuteTime": {
     "end_time": "2021-09-30T21:41:33.774351Z",
     "start_time": "2021-09-30T21:41:33.525021Z"
    }
   },
   "outputs": [
    {
     "data": {
      "text/html": [
       "<div>\n",
       "<style scoped>\n",
       "    .dataframe tbody tr th:only-of-type {\n",
       "        vertical-align: middle;\n",
       "    }\n",
       "\n",
       "    .dataframe tbody tr th {\n",
       "        vertical-align: top;\n",
       "    }\n",
       "\n",
       "    .dataframe thead th {\n",
       "        text-align: right;\n",
       "    }\n",
       "</style>\n",
       "<table border=\"1\" class=\"dataframe\">\n",
       "  <thead>\n",
       "    <tr style=\"text-align: right;\">\n",
       "      <th></th>\n",
       "      <th>texto</th>\n",
       "      <th>sentimiento</th>\n",
       "    </tr>\n",
       "  </thead>\n",
       "  <tbody>\n",
       "    <tr>\n",
       "      <th>0</th>\n",
       "      <td>curso tomado ciencia dato bueno</td>\n",
       "      <td>5</td>\n",
       "    </tr>\n",
       "    <tr>\n",
       "      <th>1</th>\n",
       "      <td>tema pero</td>\n",
       "      <td>5</td>\n",
       "    </tr>\n",
       "    <tr>\n",
       "      <th>2</th>\n",
       "      <td>gustar contenido practico</td>\n",
       "      <td>5</td>\n",
       "    </tr>\n",
       "    <tr>\n",
       "      <th>3</th>\n",
       "      <td>excelente modulo</td>\n",
       "      <td>5</td>\n",
       "    </tr>\n",
       "    <tr>\n",
       "      <th>4</th>\n",
       "      <td>explicación claro cubrir establecido considera...</td>\n",
       "      <td>5</td>\n",
       "    </tr>\n",
       "  </tbody>\n",
       "</table>\n",
       "</div>"
      ],
      "text/plain": [
       "                                               texto  sentimiento\n",
       "0                    curso tomado ciencia dato bueno            5\n",
       "1                                          tema pero            5\n",
       "2                          gustar contenido practico            5\n",
       "3                                   excelente modulo            5\n",
       "4  explicación claro cubrir establecido considera...            5"
      ]
     },
     "execution_count": 27,
     "metadata": {},
     "output_type": "execute_result"
    }
   ],
   "source": [
    "hapaxes = [t for t,count in conteos.items() if count == 1 or t == '']\n",
    "df['texto'] = df['texto'].map(lambda x:[w for w in x.split(' ') if w not in hapaxes]).apply(\" \".join)\n",
    "df.head()"
   ]
  },
  {
   "cell_type": "markdown",
   "id": "infectious-hunter",
   "metadata": {},
   "source": [
    "## Tokenizar texto en tensores"
   ]
  },
  {
   "cell_type": "markdown",
   "id": "sonic-compatibility",
   "metadata": {},
   "source": [
    "### Tamaño del vocabulario"
   ]
  },
  {
   "cell_type": "code",
   "execution_count": 28,
   "id": "linear-compression",
   "metadata": {
    "ExecuteTime": {
     "end_time": "2021-09-30T21:41:33.828743Z",
     "start_time": "2021-09-30T21:41:33.775365Z"
    }
   },
   "outputs": [
    {
     "data": {
      "text/html": [
       "<div>\n",
       "<style scoped>\n",
       "    .dataframe tbody tr th:only-of-type {\n",
       "        vertical-align: middle;\n",
       "    }\n",
       "\n",
       "    .dataframe tbody tr th {\n",
       "        vertical-align: top;\n",
       "    }\n",
       "\n",
       "    .dataframe thead th {\n",
       "        text-align: right;\n",
       "    }\n",
       "</style>\n",
       "<table border=\"1\" class=\"dataframe\">\n",
       "  <thead>\n",
       "    <tr style=\"text-align: right;\">\n",
       "      <th></th>\n",
       "      <th>count</th>\n",
       "      <th>pct</th>\n",
       "    </tr>\n",
       "  </thead>\n",
       "  <tbody>\n",
       "    <tr>\n",
       "      <th>count</th>\n",
       "      <td>906.000000</td>\n",
       "      <td>906.000000</td>\n",
       "    </tr>\n",
       "    <tr>\n",
       "      <th>mean</th>\n",
       "      <td>9.842163</td>\n",
       "      <td>0.001104</td>\n",
       "    </tr>\n",
       "    <tr>\n",
       "      <th>std</th>\n",
       "      <td>21.684743</td>\n",
       "      <td>0.002432</td>\n",
       "    </tr>\n",
       "    <tr>\n",
       "      <th>min</th>\n",
       "      <td>2.000000</td>\n",
       "      <td>0.000224</td>\n",
       "    </tr>\n",
       "    <tr>\n",
       "      <th>25%</th>\n",
       "      <td>2.000000</td>\n",
       "      <td>0.000224</td>\n",
       "    </tr>\n",
       "    <tr>\n",
       "      <th>50%</th>\n",
       "      <td>4.000000</td>\n",
       "      <td>0.000449</td>\n",
       "    </tr>\n",
       "    <tr>\n",
       "      <th>75%</th>\n",
       "      <td>8.750000</td>\n",
       "      <td>0.000981</td>\n",
       "    </tr>\n",
       "    <tr>\n",
       "      <th>max</th>\n",
       "      <td>316.000000</td>\n",
       "      <td>0.035438</td>\n",
       "    </tr>\n",
       "  </tbody>\n",
       "</table>\n",
       "</div>"
      ],
      "text/plain": [
       "            count         pct\n",
       "count  906.000000  906.000000\n",
       "mean     9.842163    0.001104\n",
       "std     21.684743    0.002432\n",
       "min      2.000000    0.000224\n",
       "25%      2.000000    0.000224\n",
       "50%      4.000000    0.000449\n",
       "75%      8.750000    0.000981\n",
       "max    316.000000    0.035438"
      ]
     },
     "execution_count": 28,
     "metadata": {},
     "output_type": "execute_result"
    }
   ],
   "source": [
    "vocab = pd.Series(Counter(reduce(lambda x,y:x+y,df['texto'].map(lambda x:x.split(' '))))).sort_values(ascending=False).to_frame()\n",
    "vocab.reset_index(inplace=True)\n",
    "vocab.columns = ['token','count']\n",
    "vocab['pct'] = vocab['count']/vocab['count'].sum()\n",
    "vocab.describe()"
   ]
  },
  {
   "cell_type": "markdown",
   "id": "nutritional-cholesterol",
   "metadata": {},
   "source": [
    "### Tokenizar"
   ]
  },
  {
   "cell_type": "code",
   "execution_count": 30,
   "id": "danish-vaccine",
   "metadata": {
    "ExecuteTime": {
     "end_time": "2021-09-30T21:53:00.163102Z",
     "start_time": "2021-09-30T21:53:00.134448Z"
    }
   },
   "outputs": [
    {
     "data": {
      "text/plain": [
       "(693, 125)"
      ]
     },
     "execution_count": 30,
     "metadata": {},
     "output_type": "execute_result"
    }
   ],
   "source": [
    "tk = tf.keras.preprocessing.text.Tokenizer(num_words=300, lower=True,split=' ')\n",
    "tk.fit_on_texts(df['texto'])\n",
    "X = tk.texts_to_sequences(df['texto'])\n",
    "X = tf.keras.preprocessing.sequence.pad_sequences(X)\n",
    "X.shape"
   ]
  },
  {
   "cell_type": "markdown",
   "id": "quiet-payroll",
   "metadata": {},
   "source": [
    "## Variable Objetivo"
   ]
  },
  {
   "cell_type": "code",
   "execution_count": 35,
   "id": "rubber-reverse",
   "metadata": {},
   "outputs": [
    {
     "data": {
      "text/plain": [
       "5    0.678211\n",
       "4    0.222222\n",
       "3    0.063492\n",
       "2    0.024531\n",
       "1    0.011544\n",
       "Name: sentimiento, dtype: float64"
      ]
     },
     "execution_count": 35,
     "metadata": {},
     "output_type": "execute_result"
    }
   ],
   "source": [
    "df['sentimiento'].value_counts(1).sort_index(ascending=False)"
   ]
  },
  {
   "cell_type": "code",
   "execution_count": 37,
   "id": "attempted-island",
   "metadata": {
    "ExecuteTime": {
     "end_time": "2021-09-30T21:42:34.274285Z",
     "start_time": "2021-09-30T21:42:34.262483Z"
    }
   },
   "outputs": [
    {
     "data": {
      "text/plain": [
       "0.09956709956709957"
      ]
     },
     "execution_count": 37,
     "metadata": {},
     "output_type": "execute_result"
    }
   ],
   "source": [
    "\n",
    "y = np.array(df['sentimiento']<4).astype(int)\n",
    "\n",
    "y.mean()"
   ]
  },
  {
   "cell_type": "markdown",
   "id": "clear-arcade",
   "metadata": {},
   "source": [
    "## Partición para entrenamiento"
   ]
  },
  {
   "cell_type": "code",
   "execution_count": 38,
   "id": "constant-reaction",
   "metadata": {
    "ExecuteTime": {
     "end_time": "2021-09-30T21:42:37.706581Z",
     "start_time": "2021-09-30T21:42:37.689975Z"
    }
   },
   "outputs": [
    {
     "data": {
      "text/plain": [
       "((623, 125), (70, 125))"
      ]
     },
     "execution_count": 38,
     "metadata": {},
     "output_type": "execute_result"
    }
   ],
   "source": [
    "Xt,Xv,yt,yv = train_test_split(X,y,train_size=0.9)\n",
    "Xt.shape,Xv.shape"
   ]
  },
  {
   "cell_type": "markdown",
   "id": "urban-rating",
   "metadata": {},
   "source": [
    "## Configuración entrenamiento"
   ]
  },
  {
   "cell_type": "code",
   "execution_count": 62,
   "id": "afraid-backup",
   "metadata": {
    "ExecuteTime": {
     "end_time": "2021-09-30T21:42:41.164545Z",
     "start_time": "2021-09-30T21:42:40.580633Z"
    }
   },
   "outputs": [
    {
     "name": "stdout",
     "output_type": "stream",
     "text": [
      "898\n",
      "WARNING:tensorflow:Layer lstm_1 will not use cuDNN kernels since it doesn't meet the criteria. It will use a generic GPU kernel as fallback when running on GPU.\n",
      "Model: \"sequential_1\"\n",
      "_________________________________________________________________\n",
      "Layer (type)                 Output Shape              Param #   \n",
      "=================================================================\n",
      "embedding_1 (Embedding)      (None, 125, 30)           26940     \n",
      "_________________________________________________________________\n",
      "spatial_dropout1d_1 (Spatial (None, 125, 30)           0         \n",
      "_________________________________________________________________\n",
      "lstm_1 (LSTM)                (None, 10)                1640      \n",
      "_________________________________________________________________\n",
      "dropout_1 (Dropout)          (None, 10)                0         \n",
      "_________________________________________________________________\n",
      "dense_1 (Dense)              (None, 1)                 11        \n",
      "=================================================================\n",
      "Total params: 28,591\n",
      "Trainable params: 28,591\n",
      "Non-trainable params: 0\n",
      "_________________________________________________________________\n",
      "None\n"
     ]
    }
   ],
   "source": [
    "tam_vocab = len(tk.word_index)\n",
    "print(tam_vocab)\n",
    "tam_vector_embed = 30\n",
    "model = Sequential()\n",
    "model.add(Embedding(tam_vocab, tam_vector_embed,     \n",
    "                                     input_length=Xt.shape[1]) )\n",
    "model.add(SpatialDropout1D(0.25))\n",
    "model.add(LSTM(10, dropout=0.5, recurrent_dropout=0.5))\n",
    "model.add(Dropout(0.5))\n",
    "model.add(Dense(1, activation='sigmoid'))\n",
    "model.compile(loss='binary_crossentropy',optimizer='adam', \n",
    "                           metrics=['accuracy'])\n",
    "print(model.summary())"
   ]
  },
  {
   "cell_type": "markdown",
   "id": "united-investigator",
   "metadata": {},
   "source": [
    "## Entrenamiento"
   ]
  },
  {
   "cell_type": "code",
   "execution_count": 63,
   "id": "clinical-principal",
   "metadata": {
    "ExecuteTime": {
     "end_time": "2021-09-30T21:43:17.487291Z",
     "start_time": "2021-09-30T21:42:44.690970Z"
    }
   },
   "outputs": [
    {
     "name": "stdout",
     "output_type": "stream",
     "text": [
      "Epoch 1/100\n",
      "18/18 [==============================] - 7s 297ms/step - loss: 0.6669 - accuracy: 0.7752 - val_loss: 0.6311 - val_accuracy: 0.8824\n",
      "Epoch 2/100\n",
      "18/18 [==============================] - 5s 279ms/step - loss: 0.5686 - accuracy: 0.9174 - val_loss: 0.4896 - val_accuracy: 0.8824\n",
      "Epoch 3/100\n",
      "18/18 [==============================] - 5s 269ms/step - loss: 0.3895 - accuracy: 0.9197 - val_loss: 0.3561 - val_accuracy: 0.8824\n",
      "Epoch 4/100\n",
      "18/18 [==============================] - 5s 287ms/step - loss: 0.3172 - accuracy: 0.9197 - val_loss: 0.3696 - val_accuracy: 0.8824\n",
      "Epoch 5/100\n",
      "18/18 [==============================] - 5s 287ms/step - loss: 0.3048 - accuracy: 0.9197 - val_loss: 0.3760 - val_accuracy: 0.8824\n",
      "Epoch 6/100\n",
      "18/18 [==============================] - 5s 297ms/step - loss: 0.3075 - accuracy: 0.9197 - val_loss: 0.3695 - val_accuracy: 0.8824\n",
      "Epoch 7/100\n",
      "18/18 [==============================] - 5s 300ms/step - loss: 0.2872 - accuracy: 0.9197 - val_loss: 0.3674 - val_accuracy: 0.8824\n",
      "Epoch 8/100\n",
      "18/18 [==============================] - 5s 291ms/step - loss: 0.2971 - accuracy: 0.9197 - val_loss: 0.3629 - val_accuracy: 0.8824\n",
      "Epoch 9/100\n",
      "18/18 [==============================] - 5s 299ms/step - loss: 0.2850 - accuracy: 0.9197 - val_loss: 0.3585 - val_accuracy: 0.8824\n",
      "Epoch 10/100\n",
      "18/18 [==============================] - 5s 291ms/step - loss: 0.2769 - accuracy: 0.9197 - val_loss: 0.3564 - val_accuracy: 0.8824\n",
      "Epoch 11/100\n",
      "18/18 [==============================] - 6s 310ms/step - loss: 0.2545 - accuracy: 0.9197 - val_loss: 0.3583 - val_accuracy: 0.8824\n",
      "Epoch 12/100\n",
      "18/18 [==============================] - 7s 380ms/step - loss: 0.2521 - accuracy: 0.9197 - val_loss: 0.3536 - val_accuracy: 0.8824\n",
      "Epoch 13/100\n",
      "18/18 [==============================] - 6s 338ms/step - loss: 0.2371 - accuracy: 0.9197 - val_loss: 0.3498 - val_accuracy: 0.8824\n",
      "Epoch 14/100\n",
      "18/18 [==============================] - 7s 368ms/step - loss: 0.2432 - accuracy: 0.9197 - val_loss: 0.3507 - val_accuracy: 0.8824\n",
      "Epoch 15/100\n",
      "18/18 [==============================] - 6s 315ms/step - loss: 0.2205 - accuracy: 0.9220 - val_loss: 0.3418 - val_accuracy: 0.8824\n",
      "Epoch 16/100\n",
      "18/18 [==============================] - 6s 359ms/step - loss: 0.2141 - accuracy: 0.9243 - val_loss: 0.3583 - val_accuracy: 0.8824\n",
      "Epoch 17/100\n",
      "18/18 [==============================] - 6s 318ms/step - loss: 0.2098 - accuracy: 0.9335 - val_loss: 0.3599 - val_accuracy: 0.8824\n",
      "Epoch 18/100\n",
      "18/18 [==============================] - 6s 326ms/step - loss: 0.2018 - accuracy: 0.9358 - val_loss: 0.3564 - val_accuracy: 0.8824\n",
      "Epoch 19/100\n",
      "18/18 [==============================] - 6s 323ms/step - loss: 0.1842 - accuracy: 0.9404 - val_loss: 0.3760 - val_accuracy: 0.8824\n",
      "Epoch 20/100\n",
      "18/18 [==============================] - 6s 324ms/step - loss: 0.1715 - accuracy: 0.9404 - val_loss: 0.3816 - val_accuracy: 0.8824\n",
      "Epoch 21/100\n",
      "18/18 [==============================] - 6s 336ms/step - loss: 0.1717 - accuracy: 0.9472 - val_loss: 0.3790 - val_accuracy: 0.8824\n",
      "Epoch 22/100\n",
      "18/18 [==============================] - 6s 306ms/step - loss: 0.1588 - accuracy: 0.9450 - val_loss: 0.3982 - val_accuracy: 0.8824\n",
      "Epoch 23/100\n",
      "18/18 [==============================] - 5s 306ms/step - loss: 0.1640 - accuracy: 0.9495 - val_loss: 0.3954 - val_accuracy: 0.8770\n",
      "Epoch 24/100\n",
      "18/18 [==============================] - 6s 320ms/step - loss: 0.1469 - accuracy: 0.9495 - val_loss: 0.3978 - val_accuracy: 0.8770\n",
      "Epoch 25/100\n",
      "18/18 [==============================] - 6s 350ms/step - loss: 0.1410 - accuracy: 0.9587 - val_loss: 0.4191 - val_accuracy: 0.8770\n",
      "Epoch 26/100\n",
      "18/18 [==============================] - 6s 335ms/step - loss: 0.1446 - accuracy: 0.9587 - val_loss: 0.4100 - val_accuracy: 0.8770\n",
      "Epoch 27/100\n",
      "18/18 [==============================] - 6s 318ms/step - loss: 0.1371 - accuracy: 0.9587 - val_loss: 0.4364 - val_accuracy: 0.8770\n",
      "Epoch 28/100\n",
      "18/18 [==============================] - 7s 365ms/step - loss: 0.1144 - accuracy: 0.9633 - val_loss: 0.4444 - val_accuracy: 0.8770\n",
      "Epoch 29/100\n",
      "18/18 [==============================] - 7s 369ms/step - loss: 0.1080 - accuracy: 0.9656 - val_loss: 0.4609 - val_accuracy: 0.8770\n",
      "Epoch 30/100\n",
      "18/18 [==============================] - 7s 367ms/step - loss: 0.1153 - accuracy: 0.9587 - val_loss: 0.4690 - val_accuracy: 0.8770\n",
      "Epoch 31/100\n",
      "18/18 [==============================] - 6s 348ms/step - loss: 0.1040 - accuracy: 0.9748 - val_loss: 0.4665 - val_accuracy: 0.8663\n",
      "Epoch 32/100\n",
      "18/18 [==============================] - 6s 337ms/step - loss: 0.1141 - accuracy: 0.9656 - val_loss: 0.4839 - val_accuracy: 0.8717\n",
      "Epoch 33/100\n",
      "18/18 [==============================] - 6s 347ms/step - loss: 0.0941 - accuracy: 0.9702 - val_loss: 0.4845 - val_accuracy: 0.8663\n",
      "Epoch 34/100\n",
      "18/18 [==============================] - 6s 321ms/step - loss: 0.0965 - accuracy: 0.9725 - val_loss: 0.4919 - val_accuracy: 0.8663\n",
      "Epoch 35/100\n",
      "18/18 [==============================] - 6s 360ms/step - loss: 0.0931 - accuracy: 0.9794 - val_loss: 0.5011 - val_accuracy: 0.8663\n",
      "Epoch 36/100\n",
      "18/18 [==============================] - 6s 322ms/step - loss: 0.0860 - accuracy: 0.9725 - val_loss: 0.5219 - val_accuracy: 0.8717\n",
      "Epoch 37/100\n",
      "18/18 [==============================] - 5s 295ms/step - loss: 0.0795 - accuracy: 0.9748 - val_loss: 0.5239 - val_accuracy: 0.8663\n",
      "Epoch 38/100\n",
      "18/18 [==============================] - 5s 304ms/step - loss: 0.0790 - accuracy: 0.9839 - val_loss: 0.5319 - val_accuracy: 0.8663\n",
      "Epoch 39/100\n",
      "18/18 [==============================] - 5s 286ms/step - loss: 0.0825 - accuracy: 0.9817 - val_loss: 0.5453 - val_accuracy: 0.8717\n",
      "Epoch 40/100\n",
      "18/18 [==============================] - 6s 327ms/step - loss: 0.0740 - accuracy: 0.9725 - val_loss: 0.5394 - val_accuracy: 0.8717\n",
      "Epoch 41/100\n",
      "18/18 [==============================] - 5s 302ms/step - loss: 0.0807 - accuracy: 0.9817 - val_loss: 0.5466 - val_accuracy: 0.8770\n",
      "Epoch 42/100\n",
      "18/18 [==============================] - 5s 306ms/step - loss: 0.0671 - accuracy: 0.9817 - val_loss: 0.5611 - val_accuracy: 0.8770\n",
      "Epoch 43/100\n",
      "18/18 [==============================] - 6s 317ms/step - loss: 0.0730 - accuracy: 0.9862 - val_loss: 0.5711 - val_accuracy: 0.8824\n",
      "Epoch 44/100\n",
      "18/18 [==============================] - 6s 356ms/step - loss: 0.0637 - accuracy: 0.9817 - val_loss: 0.5789 - val_accuracy: 0.8824\n",
      "Epoch 45/100\n",
      "18/18 [==============================] - 6s 310ms/step - loss: 0.0635 - accuracy: 0.9817 - val_loss: 0.5727 - val_accuracy: 0.8770\n",
      "Epoch 46/100\n",
      "18/18 [==============================] - 5s 298ms/step - loss: 0.0699 - accuracy: 0.9885 - val_loss: 0.5831 - val_accuracy: 0.8770\n",
      "Epoch 47/100\n",
      "18/18 [==============================] - 6s 310ms/step - loss: 0.0679 - accuracy: 0.9862 - val_loss: 0.5986 - val_accuracy: 0.8824\n",
      "Epoch 48/100\n",
      "18/18 [==============================] - 6s 321ms/step - loss: 0.0573 - accuracy: 0.9931 - val_loss: 0.6050 - val_accuracy: 0.8770\n",
      "Epoch 49/100\n",
      "18/18 [==============================] - 6s 307ms/step - loss: 0.0544 - accuracy: 0.9931 - val_loss: 0.6020 - val_accuracy: 0.8770\n",
      "Epoch 50/100\n",
      "18/18 [==============================] - 5s 300ms/step - loss: 0.0731 - accuracy: 0.9725 - val_loss: 0.5880 - val_accuracy: 0.8770\n",
      "Epoch 51/100\n",
      "18/18 [==============================] - 6s 311ms/step - loss: 0.0577 - accuracy: 0.9908 - val_loss: 0.6136 - val_accuracy: 0.8770\n",
      "Epoch 52/100\n",
      "18/18 [==============================] - 6s 320ms/step - loss: 0.0585 - accuracy: 0.9817 - val_loss: 0.6092 - val_accuracy: 0.8770\n",
      "Epoch 53/100\n",
      "18/18 [==============================] - 5s 298ms/step - loss: 0.0552 - accuracy: 0.9885 - val_loss: 0.6343 - val_accuracy: 0.8824\n",
      "Epoch 54/100\n",
      "18/18 [==============================] - 6s 309ms/step - loss: 0.0558 - accuracy: 0.9885 - val_loss: 0.6387 - val_accuracy: 0.8770\n",
      "Epoch 55/100\n",
      "18/18 [==============================] - 5s 300ms/step - loss: 0.0462 - accuracy: 0.9931 - val_loss: 0.6454 - val_accuracy: 0.8770\n",
      "Epoch 56/100\n",
      "18/18 [==============================] - 6s 326ms/step - loss: 0.0462 - accuracy: 0.9908 - val_loss: 0.6599 - val_accuracy: 0.8824\n",
      "Epoch 57/100\n",
      "18/18 [==============================] - 5s 303ms/step - loss: 0.0422 - accuracy: 0.9908 - val_loss: 0.6632 - val_accuracy: 0.8770\n"
     ]
    },
    {
     "name": "stdout",
     "output_type": "stream",
     "text": [
      "Epoch 58/100\n",
      "18/18 [==============================] - 6s 319ms/step - loss: 0.0428 - accuracy: 0.9908 - val_loss: 0.6703 - val_accuracy: 0.8824\n",
      "Epoch 59/100\n",
      "18/18 [==============================] - 6s 312ms/step - loss: 0.0492 - accuracy: 0.9885 - val_loss: 0.6687 - val_accuracy: 0.8824\n",
      "Epoch 60/100\n",
      "18/18 [==============================] - 6s 335ms/step - loss: 0.0456 - accuracy: 0.9862 - val_loss: 0.6626 - val_accuracy: 0.8824\n",
      "Epoch 61/100\n",
      "18/18 [==============================] - 6s 307ms/step - loss: 0.0479 - accuracy: 0.9908 - val_loss: 0.6600 - val_accuracy: 0.8717\n",
      "Epoch 62/100\n",
      "18/18 [==============================] - 6s 314ms/step - loss: 0.0370 - accuracy: 0.9977 - val_loss: 0.6788 - val_accuracy: 0.8770\n",
      "Epoch 63/100\n",
      "18/18 [==============================] - 6s 339ms/step - loss: 0.0475 - accuracy: 0.9931 - val_loss: 0.6739 - val_accuracy: 0.8717\n",
      "Epoch 64/100\n",
      "18/18 [==============================] - 6s 324ms/step - loss: 0.0358 - accuracy: 0.9954 - val_loss: 0.6968 - val_accuracy: 0.8770\n",
      "Epoch 65/100\n",
      "18/18 [==============================] - 6s 319ms/step - loss: 0.0477 - accuracy: 0.9931 - val_loss: 0.6848 - val_accuracy: 0.8770\n",
      "Epoch 66/100\n",
      "18/18 [==============================] - 6s 310ms/step - loss: 0.0348 - accuracy: 0.9954 - val_loss: 0.7061 - val_accuracy: 0.8770\n",
      "Epoch 67/100\n",
      "18/18 [==============================] - 6s 315ms/step - loss: 0.0333 - accuracy: 0.9977 - val_loss: 0.7134 - val_accuracy: 0.8770\n",
      "Epoch 68/100\n",
      "18/18 [==============================] - 6s 318ms/step - loss: 0.0399 - accuracy: 0.9931 - val_loss: 0.6981 - val_accuracy: 0.8717\n",
      "Epoch 69/100\n",
      "18/18 [==============================] - 6s 326ms/step - loss: 0.0357 - accuracy: 0.9931 - val_loss: 0.7141 - val_accuracy: 0.8770\n",
      "Epoch 70/100\n",
      "18/18 [==============================] - 6s 315ms/step - loss: 0.0293 - accuracy: 0.9977 - val_loss: 0.7275 - val_accuracy: 0.8770\n",
      "Epoch 71/100\n",
      "18/18 [==============================] - 6s 310ms/step - loss: 0.0470 - accuracy: 0.9908 - val_loss: 0.7072 - val_accuracy: 0.8663\n",
      "Epoch 72/100\n",
      "18/18 [==============================] - 6s 309ms/step - loss: 0.0355 - accuracy: 1.0000 - val_loss: 0.7316 - val_accuracy: 0.8770\n",
      "Epoch 73/100\n",
      "18/18 [==============================] - 6s 327ms/step - loss: 0.0361 - accuracy: 0.9954 - val_loss: 0.7466 - val_accuracy: 0.8770\n",
      "Epoch 74/100\n",
      "18/18 [==============================] - 6s 310ms/step - loss: 0.0275 - accuracy: 0.9977 - val_loss: 0.7317 - val_accuracy: 0.8770\n",
      "Epoch 75/100\n",
      "18/18 [==============================] - 5s 307ms/step - loss: 0.0340 - accuracy: 0.9977 - val_loss: 0.7512 - val_accuracy: 0.8770\n",
      "Epoch 76/100\n",
      "18/18 [==============================] - 6s 320ms/step - loss: 0.0376 - accuracy: 0.9931 - val_loss: 0.7436 - val_accuracy: 0.8770\n",
      "Epoch 77/100\n",
      "18/18 [==============================] - 6s 334ms/step - loss: 0.0350 - accuracy: 0.9931 - val_loss: 0.7616 - val_accuracy: 0.8770\n",
      "Epoch 78/100\n",
      "18/18 [==============================] - 6s 317ms/step - loss: 0.0319 - accuracy: 0.9954 - val_loss: 0.7433 - val_accuracy: 0.8717\n",
      "Epoch 79/100\n",
      "18/18 [==============================] - 6s 320ms/step - loss: 0.0277 - accuracy: 1.0000 - val_loss: 0.7639 - val_accuracy: 0.8770\n",
      "Epoch 80/100\n",
      "18/18 [==============================] - 6s 313ms/step - loss: 0.0282 - accuracy: 0.9954 - val_loss: 0.7682 - val_accuracy: 0.8770\n",
      "Epoch 81/100\n",
      "18/18 [==============================] - 6s 320ms/step - loss: 0.0313 - accuracy: 0.9977 - val_loss: 0.7613 - val_accuracy: 0.8770\n",
      "Epoch 82/100\n",
      "18/18 [==============================] - 6s 324ms/step - loss: 0.0304 - accuracy: 0.9954 - val_loss: 0.7279 - val_accuracy: 0.8663\n",
      "Epoch 83/100\n",
      "18/18 [==============================] - 6s 317ms/step - loss: 0.0292 - accuracy: 0.9977 - val_loss: 0.7453 - val_accuracy: 0.8770\n",
      "Epoch 84/100\n",
      "18/18 [==============================] - 6s 308ms/step - loss: 0.0339 - accuracy: 0.9954 - val_loss: 0.7514 - val_accuracy: 0.8770\n",
      "Epoch 85/100\n",
      "18/18 [==============================] - 5s 304ms/step - loss: 0.0286 - accuracy: 0.9931 - val_loss: 0.7982 - val_accuracy: 0.8770\n",
      "Epoch 86/100\n",
      "18/18 [==============================] - 6s 313ms/step - loss: 0.0380 - accuracy: 0.9885 - val_loss: 0.7678 - val_accuracy: 0.8770\n",
      "Epoch 87/100\n",
      "18/18 [==============================] - 6s 308ms/step - loss: 0.0178 - accuracy: 1.0000 - val_loss: 0.7790 - val_accuracy: 0.8770\n",
      "Epoch 88/100\n",
      "18/18 [==============================] - 6s 308ms/step - loss: 0.0243 - accuracy: 0.9954 - val_loss: 0.7902 - val_accuracy: 0.8770\n",
      "Epoch 89/100\n",
      "18/18 [==============================] - 5s 306ms/step - loss: 0.0223 - accuracy: 0.9977 - val_loss: 0.8231 - val_accuracy: 0.8770\n",
      "Epoch 90/100\n",
      "18/18 [==============================] - 6s 317ms/step - loss: 0.0316 - accuracy: 0.9908 - val_loss: 0.8043 - val_accuracy: 0.8770\n",
      "Epoch 91/100\n",
      "18/18 [==============================] - 6s 318ms/step - loss: 0.0295 - accuracy: 1.0000 - val_loss: 0.8005 - val_accuracy: 0.8663\n",
      "Epoch 92/100\n",
      "18/18 [==============================] - 6s 308ms/step - loss: 0.0283 - accuracy: 0.9954 - val_loss: 0.8063 - val_accuracy: 0.8663\n",
      "Epoch 93/100\n",
      "18/18 [==============================] - 5s 304ms/step - loss: 0.0194 - accuracy: 0.9977 - val_loss: 0.8240 - val_accuracy: 0.8717\n",
      "Epoch 94/100\n",
      "18/18 [==============================] - 5s 302ms/step - loss: 0.0228 - accuracy: 0.9977 - val_loss: 0.8339 - val_accuracy: 0.8770\n",
      "Epoch 95/100\n",
      "18/18 [==============================] - 6s 307ms/step - loss: 0.0209 - accuracy: 0.9977 - val_loss: 0.8583 - val_accuracy: 0.8770\n",
      "Epoch 96/100\n",
      "18/18 [==============================] - 5s 303ms/step - loss: 0.0331 - accuracy: 0.9954 - val_loss: 0.8103 - val_accuracy: 0.8717\n",
      "Epoch 97/100\n",
      "18/18 [==============================] - 5s 303ms/step - loss: 0.0221 - accuracy: 1.0000 - val_loss: 0.8133 - val_accuracy: 0.8717\n",
      "Epoch 98/100\n",
      "18/18 [==============================] - 6s 307ms/step - loss: 0.0241 - accuracy: 0.9977 - val_loss: 0.8317 - val_accuracy: 0.8717\n",
      "Epoch 99/100\n",
      "18/18 [==============================] - 5s 302ms/step - loss: 0.0209 - accuracy: 0.9977 - val_loss: 0.8349 - val_accuracy: 0.8717\n",
      "Epoch 100/100\n",
      "18/18 [==============================] - 5s 306ms/step - loss: 0.0304 - accuracy: 0.9885 - val_loss: 0.8102 - val_accuracy: 0.8610\n"
     ]
    }
   ],
   "source": [
    "historia = model.fit(Xt,yt,\n",
    "                  validation_split=0.3, epochs=100, batch_size=25,shuffle=True)"
   ]
  },
  {
   "cell_type": "code",
   "execution_count": 64,
   "id": "impressive-checkout",
   "metadata": {
    "ExecuteTime": {
     "end_time": "2021-09-30T21:43:17.693728Z",
     "start_time": "2021-09-30T21:43:17.488488Z"
    }
   },
   "outputs": [
    {
     "data": {
      "image/png": "[encoded data removed]",
      "text/plain": [
       "<Figure size 864x360 with 2 Axes>"
      ]
     },
     "metadata": {
      "needs_background": "light"
     },
     "output_type": "display_data"
    }
   ],
   "source": [
    "historia = historia.history\n",
    "fig = plt.figure(figsize=(12,5))\n",
    "ax = fig.add_subplot(1,2,1)\n",
    "ax.plot(historia['loss'],'-o',label='Pérdida de Entrenamiento')\n",
    "ax.plot(historia['val_loss'],'--<',label='Pérdida de Validación')\n",
    "ax.set_title('Pérdida',size=15)\n",
    "ax.set_xlabel('Época',size=15)\n",
    "ax.tick_params(axis='both',which='major',labelsize=15)\n",
    "ax.legend(fontsize=15)\n",
    "ax = fig.add_subplot(1,2,2)\n",
    "ax.plot(historia['accuracy'],'-o',label='Precisión Entrenamiento')\n",
    "ax.plot(historia['val_accuracy'],'--<',label='Precisión Validación')\n",
    "ax.set_title('Precisión',size=15)\n",
    "ax.set_xlabel('Época',size=15)\n",
    "ax.tick_params(axis='both',which='major',labelsize=15)\n",
    "ax.legend(fontsize=15)\n",
    "plt.show()"
   ]
  },
  {
   "cell_type": "markdown",
   "id": "married-aspect",
   "metadata": {},
   "source": [
    "## Prueba del modelo"
   ]
  },
  {
   "cell_type": "code",
   "execution_count": 65,
   "id": "norman-andrews",
   "metadata": {
    "ExecuteTime": {
     "end_time": "2021-09-30T21:43:18.731211Z",
     "start_time": "2021-09-30T21:43:17.695380Z"
    }
   },
   "outputs": [],
   "source": [
    "yt_pred = model.predict(Xt)\n",
    "yt_pred = np.array([int(x[0]>=0.5) for x in yt_pred])\n",
    "yv_pred = model.predict(Xv)\n",
    "yv_pred = np.array([int(x[0]>=0.5) for x in yv_pred])"
   ]
  },
  {
   "cell_type": "code",
   "execution_count": 66,
   "id": "annoying-hamburg",
   "metadata": {
    "ExecuteTime": {
     "end_time": "2021-09-30T21:43:19.590955Z",
     "start_time": "2021-09-30T21:43:18.732332Z"
    }
   },
   "outputs": [],
   "source": [
    "yt_score =np.array([x[0] for x in model.predict(Xt)])\n",
    "yv_score =np.array([x[0] for x in model.predict(Xv)])"
   ]
  },
  {
   "cell_type": "code",
   "execution_count": 67,
   "id": "viral-corrections",
   "metadata": {
    "ExecuteTime": {
     "end_time": "2021-09-30T21:43:19.595027Z",
     "start_time": "2021-09-30T21:43:19.592047Z"
    }
   },
   "outputs": [
    {
     "data": {
      "text/plain": [
       "(0.9582664526484751, 0.8142857142857143)"
      ]
     },
     "execution_count": 67,
     "metadata": {},
     "output_type": "execute_result"
    }
   ],
   "source": [
    "accuracy_score(y_true=yt,y_pred=yt_pred),accuracy_score(y_true=yv,y_pred=yv_pred)"
   ]
  },
  {
   "cell_type": "code",
   "execution_count": 68,
   "id": "talented-request",
   "metadata": {
    "ExecuteTime": {
     "end_time": "2021-09-30T21:43:19.720883Z",
     "start_time": "2021-09-30T21:43:19.595928Z"
    }
   },
   "outputs": [
    {
     "data": {
      "text/plain": [
       "(0.8875767156406917, 0.5804597701149425)"
      ]
     },
     "execution_count": 68,
     "metadata": {},
     "output_type": "execute_result"
    }
   ],
   "source": [
    "roc_auc_score(y_true=yt,y_score=yt_score),roc_auc_score(y_true=yv,y_score=yv_score)"
   ]
  },
  {
   "cell_type": "code",
   "execution_count": 69,
   "id": "governmental-television",
   "metadata": {
    "ExecuteTime": {
     "end_time": "2021-09-30T21:43:53.467114Z",
     "start_time": "2021-09-30T21:43:53.461024Z"
    }
   },
   "outputs": [
    {
     "name": "stdout",
     "output_type": "stream",
     "text": [
      "contenido modulo ver interesante tanto tema módulo anterior caso temario principio forma evaluación hacer módulo general material caso práctico material teórico herramienta útil módulo repasar visto clase buscar material curso considerar clase tener \t 1\n",
      "\n",
      "mucho compartir material yo práctico sentir aplicar aprendido módulo necesitar estudiar quedar claro \t 1\n",
      "\n",
      "considerar tema tiempo concepto forma adecuado ponente ocasión perder clase contar adecuado clase ponente entrar persona el presentación ayudar entender modelo formar sencillo \t 1\n",
      "\n",
      "dejar proyecto grupo deber alumno él además perder saber mucho profesor gustar módulo profesor preparado \t 1\n",
      "\n",
      "curso contenido ponente buen sentir ponente falta más preparado clase ir código error modulo teórico enfoque dar parecer ejercicio clase código explicar gracias dedicación \t 1\n",
      "\n",
      "tema visto módulo dominar tema \t 1\n",
      "\n",
      "sentir práctico complicado desarrollar práctico principio clase profe querer enseñar forma enseñar red neuronal mostrar tema considerar deber enfoque mostrar ver tema considerar temario big datar \t 1\n",
      "\n",
      "contenido \t 1\n",
      "\n",
      "profesora conocer explicación claro demasiado actividad \t 1\n",
      "\n",
      "instructor conocimiento experiencia módulo red neuronal conocer código conocimiento ejemplo \t 1\n",
      "\n",
      "gustado ejercicio modelo entender forma llevar modulo pensar explicar tema sentir \t 1\n",
      "\n",
      "considerar curso ritmo ritmo módulo material presentación tipo presentación explicar clase querer estudiar él falta información diapositiva instructor amable resolver duda \t 1\n",
      "\n"
     ]
    }
   ],
   "source": [
    "for i in range(len(yv)):\n",
    "    if yv[i] == 1:\n",
    "        print(tk.sequences_to_texts(Xv)[i],'\\t',yv[i],end='\\n\\n')"
   ]
  },
  {
   "cell_type": "code",
   "execution_count": null,
   "id": "polish-aberdeen",
   "metadata": {},
   "outputs": [],
   "source": []
  }
 ],
 "metadata": {
  "kernelspec": {
   "display_name": "Python 3",
   "language": "python",
   "name": "python3"
  },
  "language_info": {
   "codemirror_mode": {
    "name": "ipython",
    "version": 3
   },
   "file_extension": ".py",
   "mimetype": "text/x-python",
   "name": "python",
   "nbconvert_exporter": "python",
   "pygments_lexer": "ipython3",
   "version": "3.8.10"
  },
  "toc": {
   "base_numbering": 1,
   "nav_menu": {},
   "number_sections": true,
   "sideBar": true,
   "skip_h1_title": false,
   "title_cell": "Table of Contents",
   "title_sidebar": "Contents",
   "toc_cell": false,
   "toc_position": {
    "height": "calc(100% - 180px)",
    "left": "10px",
    "top": "150px",
    "width": "194px"
   },
   "toc_section_display": true,
   "toc_window_display": true
  }
 },
 "nbformat": 4,
 "nbformat_minor": 5
}
